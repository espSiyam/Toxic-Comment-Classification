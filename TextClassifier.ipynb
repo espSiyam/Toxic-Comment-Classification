{
 "cells": [
  {
   "cell_type": "code",
   "execution_count": 1,
   "metadata": {
    "cellView": "form",
    "id": "FKfPokOgei_e"
   },
   "outputs": [],
   "source": [
    "#@title Importig library\n",
    "\n",
    "import numpy as np\n",
    "import pandas as pd \n",
    "from sklearn.model_selection import train_test_split\n",
    "from tensorflow.keras.preprocessing.text import Tokenizer\n",
    "from tensorflow.keras.preprocessing.sequence import pad_sequences\n",
    "import matplotlib.pyplot as plt\n",
    "from gensim.models import KeyedVectors\n",
    "import operator\n",
    "from tqdm import tqdm\n",
    "tqdm.pandas()\n",
    "import gc\n",
    "from IPython.display import clear_output\n",
    "#@title Install kaggle\n",
    "!pip install kaggle\n",
    "\n",
    "#@title upload kaggle api from your profile\n",
    "from google.colab import files\n",
    "files.upload()\n",
    "\n",
    "#@title Modification to use kaggle dataset\n",
    "!mkdir /root/.kaggle\n",
    "!cp /content/kaggle.json /root/.kaggle/\n",
    "!chmod 600 /content/kaggle.json\n",
    "\n",
    "#@title Downloading the dataset\n",
    "%cd /content\n",
    "!kaggle competitions download -c jigsaw-unintended-bias-in-toxicity-classification\n",
    "!kaggle datasets download -d yekenot/fasttext-crawl-300d-2m\n",
    "!kaggle datasets download -d a11rand0m/quoratextemb\n",
    "clear_output()"
   ]
  },
  {
   "cell_type": "code",
   "execution_count": 2,
   "metadata": {
    "id": "hGY3DVG5fjIB"
   },
   "outputs": [],
   "source": [
    "!unzip /content/fasttext-crawl-300d-2m.zip\n",
    "!unzip /content/quoratextemb.zip\n",
    "clear_output()"
   ]
  },
  {
   "cell_type": "code",
   "execution_count": 3,
   "metadata": {
    "id": "L7RH_JVGdBH-"
   },
   "outputs": [],
   "source": [
    "max_words=100000\n",
    "max_seq_size=256"
   ]
  },
  {
   "cell_type": "code",
   "execution_count": 5,
   "metadata": {
    "colab": {
     "base_uri": "https://localhost:8080/"
    },
    "id": "pUU2tJbieHO4",
    "outputId": "6b2ad1a0-215b-488d-ceaa-cb1153e5f049"
   },
   "outputs": [
    {
     "name": "stdout",
     "output_type": "stream",
     "text": [
      "CPU times: user 14.9 s, sys: 1.42 s, total: 16.3 s\n",
      "Wall time: 16.2 s\n"
     ]
    }
   ],
   "source": [
    "%%time\n",
    "train_df = pd.read_csv('train.csv.zip')\n",
    "test_df  = pd.read_csv('test.csv.zip')\n",
    "sub_df   = pd.read_csv('sample_submission.csv.zip')"
   ]
  },
  {
   "cell_type": "code",
   "execution_count": 6,
   "metadata": {
    "colab": {
     "base_uri": "https://localhost:8080/"
    },
    "id": "2T0LarFveUKO",
    "outputId": "8d3b1b7f-470d-4571-dc5a-75f611384c08"
   },
   "outputs": [
    {
     "name": "stdout",
     "output_type": "stream",
     "text": [
      "Shape of train data:  (1804874, 45)\n",
      "Shape of test data:  (97320, 2)\n"
     ]
    }
   ],
   "source": [
    "print(\"Shape of train data: \",train_df.shape)\n",
    "print(\"Shape of test data: \",test_df.shape)"
   ]
  },
  {
   "cell_type": "code",
   "execution_count": 7,
   "metadata": {
    "colab": {
     "base_uri": "https://localhost:8080/",
     "height": 233
    },
    "id": "57-C0uPoerUO",
    "outputId": "6561295e-90ea-44f8-a3ac-d939b1e2de73"
   },
   "outputs": [
    {
     "data": {
      "text/html": [
       "<div>\n",
       "<style scoped>\n",
       "    .dataframe tbody tr th:only-of-type {\n",
       "        vertical-align: middle;\n",
       "    }\n",
       "\n",
       "    .dataframe tbody tr th {\n",
       "        vertical-align: top;\n",
       "    }\n",
       "\n",
       "    .dataframe thead th {\n",
       "        text-align: right;\n",
       "    }\n",
       "</style>\n",
       "<table border=\"1\" class=\"dataframe\">\n",
       "  <thead>\n",
       "    <tr style=\"text-align: right;\">\n",
       "      <th></th>\n",
       "      <th>id</th>\n",
       "      <th>target</th>\n",
       "      <th>comment_text</th>\n",
       "      <th>severe_toxicity</th>\n",
       "      <th>obscene</th>\n",
       "      <th>identity_attack</th>\n",
       "      <th>insult</th>\n",
       "      <th>threat</th>\n",
       "      <th>asian</th>\n",
       "      <th>atheist</th>\n",
       "      <th>bisexual</th>\n",
       "      <th>black</th>\n",
       "      <th>buddhist</th>\n",
       "      <th>christian</th>\n",
       "      <th>female</th>\n",
       "      <th>heterosexual</th>\n",
       "      <th>hindu</th>\n",
       "      <th>homosexual_gay_or_lesbian</th>\n",
       "      <th>intellectual_or_learning_disability</th>\n",
       "      <th>jewish</th>\n",
       "      <th>latino</th>\n",
       "      <th>male</th>\n",
       "      <th>muslim</th>\n",
       "      <th>other_disability</th>\n",
       "      <th>other_gender</th>\n",
       "      <th>other_race_or_ethnicity</th>\n",
       "      <th>other_religion</th>\n",
       "      <th>other_sexual_orientation</th>\n",
       "      <th>physical_disability</th>\n",
       "      <th>psychiatric_or_mental_illness</th>\n",
       "      <th>transgender</th>\n",
       "      <th>white</th>\n",
       "      <th>created_date</th>\n",
       "      <th>publication_id</th>\n",
       "      <th>parent_id</th>\n",
       "      <th>article_id</th>\n",
       "      <th>rating</th>\n",
       "      <th>funny</th>\n",
       "      <th>wow</th>\n",
       "      <th>sad</th>\n",
       "      <th>likes</th>\n",
       "      <th>disagree</th>\n",
       "      <th>sexual_explicit</th>\n",
       "      <th>identity_annotator_count</th>\n",
       "      <th>toxicity_annotator_count</th>\n",
       "    </tr>\n",
       "  </thead>\n",
       "  <tbody>\n",
       "    <tr>\n",
       "      <th>0</th>\n",
       "      <td>59848</td>\n",
       "      <td>0.0</td>\n",
       "      <td>This is so cool. It's like, 'would you want yo...</td>\n",
       "      <td>0.0</td>\n",
       "      <td>0.0</td>\n",
       "      <td>0.0</td>\n",
       "      <td>0.0</td>\n",
       "      <td>0.0</td>\n",
       "      <td>NaN</td>\n",
       "      <td>NaN</td>\n",
       "      <td>NaN</td>\n",
       "      <td>NaN</td>\n",
       "      <td>NaN</td>\n",
       "      <td>NaN</td>\n",
       "      <td>NaN</td>\n",
       "      <td>NaN</td>\n",
       "      <td>NaN</td>\n",
       "      <td>NaN</td>\n",
       "      <td>NaN</td>\n",
       "      <td>NaN</td>\n",
       "      <td>NaN</td>\n",
       "      <td>NaN</td>\n",
       "      <td>NaN</td>\n",
       "      <td>NaN</td>\n",
       "      <td>NaN</td>\n",
       "      <td>NaN</td>\n",
       "      <td>NaN</td>\n",
       "      <td>NaN</td>\n",
       "      <td>NaN</td>\n",
       "      <td>NaN</td>\n",
       "      <td>NaN</td>\n",
       "      <td>NaN</td>\n",
       "      <td>2015-09-29 10:50:41.987077+00</td>\n",
       "      <td>2</td>\n",
       "      <td>NaN</td>\n",
       "      <td>2006</td>\n",
       "      <td>rejected</td>\n",
       "      <td>0</td>\n",
       "      <td>0</td>\n",
       "      <td>0</td>\n",
       "      <td>0</td>\n",
       "      <td>0</td>\n",
       "      <td>0.0</td>\n",
       "      <td>0</td>\n",
       "      <td>4</td>\n",
       "    </tr>\n",
       "    <tr>\n",
       "      <th>1</th>\n",
       "      <td>59849</td>\n",
       "      <td>0.0</td>\n",
       "      <td>Thank you!! This would make my life a lot less...</td>\n",
       "      <td>0.0</td>\n",
       "      <td>0.0</td>\n",
       "      <td>0.0</td>\n",
       "      <td>0.0</td>\n",
       "      <td>0.0</td>\n",
       "      <td>NaN</td>\n",
       "      <td>NaN</td>\n",
       "      <td>NaN</td>\n",
       "      <td>NaN</td>\n",
       "      <td>NaN</td>\n",
       "      <td>NaN</td>\n",
       "      <td>NaN</td>\n",
       "      <td>NaN</td>\n",
       "      <td>NaN</td>\n",
       "      <td>NaN</td>\n",
       "      <td>NaN</td>\n",
       "      <td>NaN</td>\n",
       "      <td>NaN</td>\n",
       "      <td>NaN</td>\n",
       "      <td>NaN</td>\n",
       "      <td>NaN</td>\n",
       "      <td>NaN</td>\n",
       "      <td>NaN</td>\n",
       "      <td>NaN</td>\n",
       "      <td>NaN</td>\n",
       "      <td>NaN</td>\n",
       "      <td>NaN</td>\n",
       "      <td>NaN</td>\n",
       "      <td>NaN</td>\n",
       "      <td>2015-09-29 10:50:42.870083+00</td>\n",
       "      <td>2</td>\n",
       "      <td>NaN</td>\n",
       "      <td>2006</td>\n",
       "      <td>rejected</td>\n",
       "      <td>0</td>\n",
       "      <td>0</td>\n",
       "      <td>0</td>\n",
       "      <td>0</td>\n",
       "      <td>0</td>\n",
       "      <td>0.0</td>\n",
       "      <td>0</td>\n",
       "      <td>4</td>\n",
       "    </tr>\n",
       "  </tbody>\n",
       "</table>\n",
       "</div>"
      ],
      "text/plain": [
       "      id  target  ... identity_annotator_count  toxicity_annotator_count\n",
       "0  59848     0.0  ...                        0                         4\n",
       "1  59849     0.0  ...                        0                         4\n",
       "\n",
       "[2 rows x 45 columns]"
      ]
     },
     "execution_count": 7,
     "metadata": {
      "tags": []
     },
     "output_type": "execute_result"
    }
   ],
   "source": [
    "train_df.head(2)"
   ]
  },
  {
   "cell_type": "markdown",
   "metadata": {
    "id": "gRAHj8SbfBZD"
   },
   "source": [
    "# The columns we need are: target and comment_text"
   ]
  },
  {
   "cell_type": "code",
   "execution_count": 8,
   "metadata": {
    "id": "T_iPDurzewV1"
   },
   "outputs": [],
   "source": [
    "train_df = train_df[[\"target\", \"comment_text\"]]"
   ]
  },
  {
   "cell_type": "markdown",
   "metadata": {
    "id": "XqKOEgBAfT42"
   },
   "source": [
    "# Data Cleaning"
   ]
  },
  {
   "cell_type": "markdown",
   "metadata": {
    "id": "-Bxb3M0kfY1P"
   },
   "source": [
    "### Combining different embedding"
   ]
  },
  {
   "cell_type": "code",
   "execution_count": 9,
   "metadata": {
    "id": "p8CMQt3RfVgu"
   },
   "outputs": [],
   "source": [
    "# Use for combine the vector files that have given \n",
    "def combine_embedding(vec_files):\n",
    "    \n",
    "    # convert victor to float16 to make it use less memory\n",
    "    def get_coefs(word, *arr): \n",
    "        return word, np.asarray(arr, dtype='float16')\n",
    "\n",
    "    # make our embed smaller by get_coefs\n",
    "    def optimize_embedding(embedding): \n",
    "        optimized_embedding = {}\n",
    "        for word in embedding.vocab:\n",
    "            optimized_embedding[word] = np.asarray(embedding[word], dtype='float16')\n",
    "        return optimized_embedding\n",
    "\n",
    "    \n",
    "    # load embed vector from file\n",
    "    def load_embed(file):\n",
    "        print(\"Loading {}\".format(file))\n",
    "\n",
    "        if file == '/content/embeddings/wiki-news-300d-1M/wiki-news-300d-1M.vec':\n",
    "            return dict(get_coefs(*o.strip().split(\" \")) for o in open(file) if len(o) > 100)\n",
    "        \n",
    "        elif file == '/content/crawl-300d-2M.vec':\n",
    "            return optimize_embedding(KeyedVectors.load_word2vec_format(file))\n",
    "\n",
    "        else:\n",
    "            return dict(get_coefs(*o.split(\" \")) for o in open(file, encoding='latin'))\n",
    "        \n",
    "        \n",
    "    combined_embedding = {}\n",
    "    for file in vec_files:\n",
    "        combined_embedding.update(load_embed(file))\n",
    "    return combined_embedding"
   ]
  },
  {
   "cell_type": "code",
   "execution_count": 10,
   "metadata": {
    "id": "JLId_7B9gC4s"
   },
   "outputs": [],
   "source": [
    "vec_files = [\n",
    "    \"/content/embeddings/wiki-news-300d-1M/wiki-news-300d-1M.vec\",\n",
    "    \"/content/embeddings/glove.840B.300d/glove.840B.300d.txt\",\n",
    "    \"/content/crawl-300d-2M.vec\"\n",
    "]"
   ]
  },
  {
   "cell_type": "code",
   "execution_count": 11,
   "metadata": {
    "colab": {
     "base_uri": "https://localhost:8080/"
    },
    "id": "jq-SvV13hjym",
    "outputId": "f73364a0-6634-461e-a9ec-f85f25cdc217"
   },
   "outputs": [
    {
     "name": "stdout",
     "output_type": "stream",
     "text": [
      "Loading /content/embeddings/wiki-news-300d-1M/wiki-news-300d-1M.vec\n",
      "Loading /content/embeddings/glove.840B.300d/glove.840B.300d.txt\n",
      "Loading /content/crawl-300d-2M.vec\n",
      "CPU times: user 12min 4s, sys: 24.2 s, total: 12min 28s\n",
      "Wall time: 12min 18s\n"
     ]
    }
   ],
   "source": [
    "%%time\n",
    "embedding_index = combine_embedding(vec_files)\n",
    "covered_vocabs = set(list(embedding_index.keys()))\n",
    "embedding_index.clear()"
   ]
  },
  {
   "cell_type": "code",
   "execution_count": 12,
   "metadata": {
    "colab": {
     "base_uri": "https://localhost:8080/"
    },
    "id": "WoJi2KQThuVu",
    "outputId": "eccaf103-42ae-4ac8-8b11-9977123d399d"
   },
   "outputs": [
    {
     "data": {
      "text/plain": [
       "52"
      ]
     },
     "execution_count": 12,
     "metadata": {
      "tags": []
     },
     "output_type": "execute_result"
    }
   ],
   "source": [
    "gc.collect()"
   ]
  },
  {
   "cell_type": "markdown",
   "metadata": {
    "id": "_iFLs8rDnzFg"
   },
   "source": [
    "## Clean compound letter"
   ]
  },
  {
   "cell_type": "code",
   "execution_count": 13,
   "metadata": {
    "id": "p0knn9A4nnwP"
   },
   "outputs": [],
   "source": [
    "contraction_mapping = {\n",
    "    \"ain't\": \"is not\", \"aren't\": \"are not\",\"can't\": \"cannot\", \"'cause\": \"because\", \"could've\": \"could have\", \"couldn't\": \"could not\", \n",
    "    \"didn't\": \"did not\",  \"doesn't\": \"does not\", \"don't\": \"do not\", \"hadn't\": \"had not\", \"hasn't\": \"has not\", \"haven't\": \"have not\", \n",
    "    \"he'd\": \"he would\",\"he'll\": \"he will\", \"he's\": \"he is\", \"how'd\": \"how did\", \"how'd'y\": \"how do you\", \"how'll\": \"how will\", \"how's\": \"how is\",  \n",
    "    \"I'd\": \"I would\", \"I'd've\": \"I would have\", \"I'll\": \"I will\", \"I'll've\": \"I will have\",\"I'm\": \"I am\", \"I've\": \"I have\", \"i'd\": \"i would\", \"i'd've\": \n",
    "    \"i would have\", \"i'll\": \"i will\",  \"i'll've\": \"i will have\",\"i'm\": \"i am\", \"i've\": \"i have\", \"isn't\": \"is not\", \"it'd\": \"it would\", \n",
    "    \"it'd've\": \"it would have\", \"it'll\": \"it will\", \"it'll've\": \"it will have\",\"it's\": \"it is\", \"let's\": \"let us\", \"ma'am\": \"madam\", \n",
    "    \"mayn't\": \"may not\", \"might've\": \"might have\",\"mightn't\": \"might not\",\"mightn't've\": \"might not have\", \"must've\": \"must have\", \n",
    "    \"mustn't\": \"must not\", \"mustn't've\": \"must not have\", \"needn't\": \"need not\", \"needn't've\": \"need not have\",\n",
    "    \"o'clock\": \"of the clock\", \"oughtn't\": \"ought not\", \"oughtn't've\": \"ought not have\", \"shan't\": \"shall not\", \n",
    "    \"sha'n't\": \"shall not\", \"shan't've\": \"shall not have\", \"she'd\": \"she would\", \"she'd've\": \"she would have\", \n",
    "    \"she'll\": \"she will\", \"she'll've\": \"she will have\", \"she's\": \"she is\", \"should've\": \"should have\", \"shouldn't\": \"should not\", \n",
    "    \"shouldn't've\": \"should not have\", \"so've\": \"so have\",\"so's\": \"so as\", \"this's\": \"this is\",\"that'd\": \"that would\", \n",
    "    \"that'd've\": \"that would have\", \"that's\": \"that is\", \"there'd\": \"there would\", \"there'd've\": \"there would have\", \"there's\": \"there is\", \n",
    "    \"here's\": \"here is\",\"they'd\": \"they would\", \"they'd've\": \"they would have\", \"they'll\": \"they will\", \"they'll've\": \"they will have\", \n",
    "    \"they're\": \"they are\", \"they've\": \"they have\", \"to've\": \"to have\", \"wasn't\": \"was not\", \"we'd\": \"we would\", \"we'd've\": \"we would have\", \n",
    "    \"we'll\": \"we will\", \"we'll've\": \"we will have\", \"we're\": \"we are\", \"we've\": \"we have\", \"weren't\": \"were not\", \"what'll\": \"what will\", \n",
    "    \"what'll've\": \"what will have\", \"what're\": \"what are\",  \"what's\": \"what is\", \"what've\": \"what have\", \"when's\": \"when is\", \n",
    "    \"when've\": \"when have\", \"where'd\": \"where did\", \"where's\": \"where is\", \"where've\": \"where have\", \"who'll\": \"who will\", \"who'll've\": \"who will have\",\n",
    "    \"who's\": \"who is\", \"who've\": \"who have\", \"why's\": \"why is\", \"why've\": \"why have\", \"will've\": \"will have\", \"won't\": \"will not\", \n",
    "    \"won't've\": \"will not have\", \"would've\": \"would have\", \"wouldn't\": \"would not\", \"wouldn't've\": \"would not have\", \n",
    "    \"y'all\": \"you all\", \"y'all'd\": \"you all would\",\"y'all'd've\": \"you all would have\",\"y'all're\": \"you all are\",\"y'all've\": \"you all have\",\n",
    "    \"you'd\": \"you would\", \"you'd've\": \"you would have\", \"you'll\": \"you will\", \"you'll've\": \"you will have\", \"you're\": \"you are\", \"you've\": \"you have\",\n",
    "    \"Trump's\": \"trump is\", \"Obama's\": \"obama is\", \"Canada's\": \"canada is\", \"today's\": \"today is\"\n",
    "}"
   ]
  },
  {
   "cell_type": "code",
   "execution_count": 14,
   "metadata": {
    "id": "gbStErdPnJ4o"
   },
   "outputs": [],
   "source": [
    "def clean_contractions(text):\n",
    "    specials = [\"’\", \"‘\", \"´\", \"`\"]\n",
    "    for s in specials:\n",
    "        text = text.replace(s, \"'\")\n",
    "    words = [contraction_mapping[word] if word in contraction_mapping else word for word in text.split(\" \")]\n",
    "    return ' '.join(words)"
   ]
  },
  {
   "cell_type": "code",
   "execution_count": 15,
   "metadata": {
    "colab": {
     "base_uri": "https://localhost:8080/"
    },
    "id": "foG1bcIrnWN-",
    "outputId": "a2a27b51-aea5-4bdc-8a06-59f39473cdf2"
   },
   "outputs": [
    {
     "name": "stderr",
     "output_type": "stream",
     "text": [
      "100%|██████████| 1804874/1804874 [00:21<00:00, 84517.64it/s]\n"
     ]
    }
   ],
   "source": [
    "train_df[\"comment_text\"] = train_df[\"comment_text\"].progress_apply(lambda text: clean_contractions(text))"
   ]
  },
  {
   "cell_type": "markdown",
   "metadata": {
    "id": "msDcKxjXoE-M"
   },
   "source": [
    "## Clean special characters"
   ]
  },
  {
   "cell_type": "code",
   "execution_count": 16,
   "metadata": {
    "colab": {
     "base_uri": "https://localhost:8080/"
    },
    "id": "xrm2HK7Gntg-",
    "outputId": "9e61c9db-debd-445d-b917-d46677185073"
   },
   "outputs": [
    {
     "name": "stdout",
     "output_type": "stream",
     "text": [
      "\n"
     ]
    }
   ],
   "source": [
    "punct = \"/-'?!.,#$%\\'()*+-/:;<=>@[\\\\]^_`{|}~\" + '\"\"“”’' + '∞θ÷α•à−β∅³π‘₹´°£€\\×™√²—–&'\n",
    "specail_signs = { \"…\": \"...\", \"₂\": \"2\"}\n",
    "\n",
    "unknown_puncts = []\n",
    "for p in punct:\n",
    "    if p not in covered_vocabs:\n",
    "        unknown_puncts.append(p)\n",
    "print(' '.join(unknown_puncts))\n",
    "\n",
    "def clean_special_chars(text):\n",
    "    for s in specail_signs: \n",
    "        text = text.replace(s, specail_signs[s])\n",
    "    for p in punct:\n",
    "        text = text.replace(p, f' {p} ')\n",
    "    return text"
   ]
  },
  {
   "cell_type": "code",
   "execution_count": 17,
   "metadata": {
    "colab": {
     "base_uri": "https://localhost:8080/"
    },
    "id": "ICWA0sLNoSWn",
    "outputId": "1e2cfdfb-b113-49ba-de14-62252f886ba1"
   },
   "outputs": [
    {
     "name": "stderr",
     "output_type": "stream",
     "text": [
      "100%|██████████| 1804874/1804874 [00:42<00:00, 42502.99it/s]\n"
     ]
    }
   ],
   "source": [
    "train_df[\"comment_text\"] = train_df[\"comment_text\"].progress_apply(lambda text: clean_special_chars(text))"
   ]
  },
  {
   "cell_type": "code",
   "execution_count": 18,
   "metadata": {
    "colab": {
     "base_uri": "https://localhost:8080/"
    },
    "id": "KAmnGH93oUFG",
    "outputId": "21d1f592-ed85-4697-fd51-05f476de7a14"
   },
   "outputs": [
    {
     "name": "stderr",
     "output_type": "stream",
     "text": [
      "100%|██████████| 1804874/1804874 [00:22<00:00, 82034.11it/s]\n"
     ]
    }
   ],
   "source": [
    "special_caps_mapping = { \n",
    "    \"ᴀ\": \"a\", \"ʙ\": \"b\", \"ᴄ\": \"c\", \"ᴅ\": \"d\", \"ᴇ\": \"e\", \"ғ\": \"f\", \"ɢ\": \"g\", \"ʜ\": \"h\", \"ɪ\": \"i\", \"ᴊ\": \"j\", \"ᴋ\": \"k\", \"ʟ\": \"l\", \"ᴍ\": \"m\",\n",
    "    \"ɴ\": \"n\", \"ᴏ\": \"o\", \"ᴘ\": \"p\", \"ǫ\": \"q\", \"ʀ\": \"r\", \"s\": \"s\", \"ᴛ\": \"t\", \"ᴜ\": \"u\", \"ᴠ\": \"v\", \"ᴡ\": \"w\", \"x\": \"x\", \"ʏ\": \"y\", \"ᴢ\": \"z\",\n",
    "    \"𝘊\": \"C\", \"𝘦\": \"e\", \"𝘳\": \"r\", \"𝘢\": \"a\", \"𝘵\": \"t\", \"𝘰\": \"o\", \"𝘤\": \"c\", \"𝘺\": \"y\", \"𝘴\": \"s\", \"𝘪\": \"i\", \"𝘧\": \"f\", \"𝘮\": \"m\", \"𝘣\": \"b\",\n",
    "    \"м\": \"m\", \"υ\": \"u\", \"т\": \"t\", \"ѕ\": \"s\", \"𝙀\": \"E\", \"𝒛\": \"z\", \"𝑲\": \"K\", \"𝑳\": \"L\", \"𝑾\": \"W\", \"𝒋\": \"j\", \"𝟒\": \"4\",\n",
    "    \"𝙒\": \"W\", \"𝘾\": \"C\", \"𝘽\": \"B\", \"𝑱\": \"J\", \"𝑹\": \"R\", \"𝑫\": \"D\", \"𝑵\": \"N\", \"𝑪\": \"C\", \"𝑯\": \"H\", \"𝒒\": \"q\", \"𝑮\": \"G\", \"𝗕\": \"B\", \"𝗴\": \"g\", \n",
    "    \"𝟐\": \"2\", \"𝗸\": \"k\", \"𝗟\": \"L\", \"𝗠\": \"M\", \"𝗷\": \"j\", \"𝐎\": \"O\", \"𝐍\": \"N\", \"𝐊\": \"K\", \"𝑭\": \"F\", \"Е\": \"E\"\n",
    "}\n",
    "\n",
    "def clean_small_caps(text):\n",
    "    for char in special_caps_mapping:\n",
    "        text = text.replace(char, special_caps_mapping[char])\n",
    "    return text\n",
    "\n",
    "train_df[\"comment_text\"] = train_df[\"comment_text\"].progress_apply(lambda text: clean_small_caps(text))"
   ]
  },
  {
   "cell_type": "markdown",
   "metadata": {
    "id": "_4Fa_ap8olp_"
   },
   "source": [
    "## clean emoji"
   ]
  },
  {
   "cell_type": "code",
   "execution_count": 19,
   "metadata": {
    "colab": {
     "base_uri": "https://localhost:8080/"
    },
    "id": "3TDoU4HRohS2",
    "outputId": "44f847fb-303e-4dff-a75e-d9f1b9b169e9"
   },
   "outputs": [
    {
     "name": "stderr",
     "output_type": "stream",
     "text": [
      "100%|██████████| 1804874/1804874 [01:30<00:00, 19839.23it/s]\n"
     ]
    }
   ],
   "source": [
    "emojis = \"🍕🐵😑😢🐶️😜😎👊😁😍💖💵👎😀😂🔥😄🏻💥😋👏😱🚌ᴵ͞🌟😊😳😧🙀😐😕👍😮😃😘💩💯⛽🚄😖🏼🚲😟😈💪🙏🎯🌹😇💔😡👌🙄😠😉😤⛺🙂😏🍾🎉😞🏾😅😭👻😥😔😓🏽🎆🍻🍽🎶🌺🤔😪🐰🐇🐱🙆😨🙃💕💗💚🙈😴🏿🤗🇺🇸⤵🏆🎃😩👮💙🐾🐕😆🌠🐟💫💰💎🖐🙅⛲🍰🤐👆🙌💛🙁👀🙊🙉🚬🤓😵😒͝🆕👅👥👄🔄🔤👉👤👶👲🔛🎓😣⏺😌🤑🌏😯😲💞🚓🔔📚🏀👐💤🍇🏡❔⁉👠》🇹🇼🌸🌞🎲😛💋💀🎄💜🤢َِ🗑💃📣👿༼つ༽😰🤣🐝🎅🍺🎵🌎͟🤡🤥😬🤧🚀🤴😝💨🏈😺🌍⏏ệ🍔🐮🍁🍆🍑🌮🌯🤦🍀😫🤤🎼🕺🍸🥂🗽🎇🎊🆘🤠👩🖒🚪🇫🇷🇩🇪😷🇨🇦🌐📺🐋💘💓💐🌋🌄🌅👺🐷🚶🤘ͦ💸👂👃🎫🚢🚂🏃👽😙🎾👹⎌🏒⛸🏄🐀🚑🤷🤙🐒🐈ﷻ🦄🚗🐳👇⛷👋🦊🐽🎻🎹⛓🏹🍷🦆♾🎸🤕🤒⛑🎁🏝🦁🙋😶🔫👁💲🗯👑🚿💡😦🏐🇰🇵👾🐄🎈🔨🐎🤞🐸💟🎰🌝🛳🍭👣🏉💭🎥🐴👨🤳🦍🍩😗🏂👳🍗🕉🐲🍒🐑⏰💊🌤🍊🔹🤚🍎𝑷🐂💅💢💒🚴🖕🖤🥘📍👈➕🚫🎨🌑🐻🤖🎎😼🕷👼📉🍟🍦🌈🔭《🐊🐍🐦🐡💳ἱ🙇🥜🔼\"\n",
    "\n",
    "def remove_emojis(text):\n",
    "    for emoji in emojis:\n",
    "        text = text.replace(emoji, '')\n",
    "    return text\n",
    "\n",
    "train_df[\"comment_text\"] = train_df[\"comment_text\"].progress_apply(lambda text: remove_emojis(text))"
   ]
  },
  {
   "cell_type": "code",
   "execution_count": 20,
   "metadata": {
    "colab": {
     "base_uri": "https://localhost:8080/"
    },
    "id": "LG10lhgLowjm",
    "outputId": "ddc5633d-e125-4e9e-9cb0-18da2b714eaf"
   },
   "outputs": [
    {
     "data": {
      "text/plain": [
       "103"
      ]
     },
     "execution_count": 20,
     "metadata": {
      "tags": []
     },
     "output_type": "execute_result"
    }
   ],
   "source": [
    "del covered_vocabs\n",
    "gc.collect()"
   ]
  },
  {
   "cell_type": "markdown",
   "metadata": {
    "id": "-HqSIOh0pIFD"
   },
   "source": [
    "# Test Data Cleaning"
   ]
  },
  {
   "cell_type": "code",
   "execution_count": 21,
   "metadata": {
    "colab": {
     "base_uri": "https://localhost:8080/"
    },
    "id": "tWjuT9L9pCGO",
    "outputId": "f13bb424-4374-4470-d43c-9fff57290f20"
   },
   "outputs": [
    {
     "name": "stderr",
     "output_type": "stream",
     "text": [
      "100%|██████████| 97320/97320 [00:04<00:00, 21454.96it/s]\n"
     ]
    }
   ],
   "source": [
    "def clean_up_text_with_all_process(text):\n",
    "    text = text.lower()\n",
    "    text = clean_contractions(text)\n",
    "    text = clean_special_chars(text)\n",
    "    text = clean_small_caps(text)\n",
    "    return text\n",
    "\n",
    "test_df[\"comment_text\"] = test_df[\"comment_text\"].progress_apply(lambda text: clean_up_text_with_all_process(text))"
   ]
  },
  {
   "cell_type": "markdown",
   "metadata": {
    "id": "Z0Ly4RjqvWOv"
   },
   "source": [
    "## Word cloud"
   ]
  },
  {
   "cell_type": "code",
   "execution_count": 22,
   "metadata": {
    "colab": {
     "base_uri": "https://localhost:8080/",
     "height": 397
    },
    "id": "MREqZ4RbvZwV",
    "outputId": "8fc5ef27-97c5-468c-ff07-0f47a0921f9f"
   },
   "outputs": [
    {
     "data": {
      "image/png": "[encoded data removed]",
      "text/plain": [
       "<Figure size 864x432 with 1 Axes>"
      ]
     },
     "metadata": {
      "needs_background": "light",
      "tags": []
     },
     "output_type": "display_data"
    }
   ],
   "source": [
    "from wordcloud import WordCloud\n",
    "\n",
    "words = ' '.join([text for text in train_df['comment_text'] ])\n",
    "\n",
    "word_cloud = WordCloud(width=1600,\n",
    "                       height=800,\n",
    "                       colormap='coolwarm', \n",
    "                       margin=2,\n",
    "                       max_words=500,\n",
    "                       max_font_size=150, \n",
    "                       min_font_size=30, \n",
    "                       background_color=\"white\").generate(words)\n",
    "\n",
    "plt.figure(figsize=(12,6))\n",
    "plt.imshow(word_cloud, interpolation=\"gaussian\")\n",
    "plt.title('Comments and their Nature', fontsize = 40)\n",
    "plt.axis(\"off\")\n",
    "plt.show()"
   ]
  },
  {
   "cell_type": "markdown",
   "metadata": {
    "id": "6GVbNuuGpeiG"
   },
   "source": [
    "# Tokenizing the data"
   ]
  },
  {
   "cell_type": "code",
   "execution_count": 23,
   "metadata": {
    "colab": {
     "base_uri": "https://localhost:8080/"
    },
    "id": "V8tr9tLrpOIN",
    "outputId": "9e7cab13-c3f6-4177-e1e3-f2521df4827e"
   },
   "outputs": [
    {
     "name": "stdout",
     "output_type": "stream",
     "text": [
      "CPU times: user 1min 23s, sys: 274 ms, total: 1min 24s\n",
      "Wall time: 1min 23s\n"
     ]
    }
   ],
   "source": [
    "%%time\n",
    "tranformer = Tokenizer(lower = True, filters='', num_words=max_words)\n",
    "tranformer.fit_on_texts(list(train_df[\"comment_text\"].values) + list(test_df[\"comment_text\"].values) )"
   ]
  },
  {
   "cell_type": "code",
   "execution_count": 24,
   "metadata": {
    "colab": {
     "base_uri": "https://localhost:8080/"
    },
    "id": "kcQjUa1hqurH",
    "outputId": "53e84a4a-2136-43d0-d1e7-9706eae5c16b"
   },
   "outputs": [
    {
     "data": {
      "text/plain": [
       "array([\"This is so cool .  It  '  s like ,    '  would you want your mother to read this ?  ?   '   Really great idea ,  well done ! \",\n",
       "       'Thank you !  !  This would make my life a lot less anxiety  -  inducing .  Keep it up ,  and do not let anyone get in your way ! ',\n",
       "       'This is such an urgent design problem ;  kudos to you for taking it on .  Very impressive ! ',\n",
       "       ...,\n",
       "       'thank you  ,  ,  , right or wrong ,  ,  ,  i am following your advice',\n",
       "       'Anyone who is quoted as having the following exchange ,  even if apocryphal ,  would have received my vote !  \\n\\nBessie Braddock :    \"  Winston ,  you are drunk ,  and what is more you are disgustingly drunk .   \"  \\nWinston Churchill :    \"  Bessie ,  my dear ,  you are ugly ,  and what is more ,  you are disgustingly ugly .  But tomorrow I shall be sober and you will still be disgustingly ugly .   \"  ',\n",
       "       'Students defined as EBD are legally just as disabled and eligible for special services as a developmentally disabled or physically disabled student .  \\n\\nEMOTIONAL AND BEHAVIORAL DISORDER  ( EBD )  . \\nDefinition .  \\nAn emotional and behavioral disorder is an emotional disability characterized by the following :  \\n ( i )   An inability to build or maintain satisfactory interpersonal relationships with peers and  /  or teachers .   For preschool  -  age children ,  this would include \\nother care providers .   \\n ( ii )  An inability to learn which cannot be adequately explained by intellectual , sensory or health factors .   \\n ( iii )  A consistent or chronic inappropriate type of behavior or feelings under normal conditions .  \\n ( iv )  A displayed pervasive mood of unhappiness or depression .  \\n ( v )   A displayed tendency to develop physical symptoms ,  pains or unreasonable fears associated with personal or school problem\\ns .    [ 34 C . F . R .  § 300 . 8 ( c )  ( 4 )  ( i )  ( A  –  E )  ] '],\n",
       "      dtype=object)"
      ]
     },
     "execution_count": 24,
     "metadata": {
      "tags": []
     },
     "output_type": "execute_result"
    }
   ],
   "source": [
    "train_df[\"comment_text\"].values"
   ]
  },
  {
   "cell_type": "markdown",
   "metadata": {
    "id": "2agH_J5zr6aP"
   },
   "source": [
    "## Transforming the train and test data"
   ]
  },
  {
   "cell_type": "code",
   "execution_count": 25,
   "metadata": {
    "colab": {
     "base_uri": "https://localhost:8080/"
    },
    "id": "jKYechcjplm_",
    "outputId": "433c531f-88ed-4802-ae23-56e94df9bb18"
   },
   "outputs": [
    {
     "name": "stdout",
     "output_type": "stream",
     "text": [
      "CPU times: user 1min 22s, sys: 1.34 s, total: 1min 23s\n",
      "Wall time: 1min 22s\n"
     ]
    }
   ],
   "source": [
    "%%time\n",
    "transformed_x = tranformer.texts_to_sequences(train_df[\"comment_text\"].values)\n",
    "transformed_x = pad_sequences(transformed_x, maxlen = max_seq_size)\n",
    "\n",
    "x_predict = tranformer.texts_to_sequences(test_df[\"comment_text\"])\n",
    "x_predict = pad_sequences(x_predict, maxlen = max_seq_size)"
   ]
  },
  {
   "cell_type": "code",
   "execution_count": 26,
   "metadata": {
    "colab": {
     "base_uri": "https://localhost:8080/"
    },
    "id": "1HUeU6VZsM-x",
    "outputId": "ab584872-4aa3-4dc3-fced-b4369a783222"
   },
   "outputs": [
    {
     "name": "stdout",
     "output_type": "stream",
     "text": [
      "(1804874, 256)\n",
      "[[   0    0    0 ...  109  236   36]\n",
      " [   0    0    0 ...   47  108   36]\n",
      " [   0    0    0 ...  116 5104   36]\n",
      " ...\n",
      " [   0    0    0 ... 1117   47 1821]\n",
      " [   0    0    0 ... 2625    1   12]\n",
      " [   0    0    0 ...  647   51  893]]\n"
     ]
    }
   ],
   "source": [
    "print(transformed_x.shape)\n",
    "print(transformed_x)"
   ]
  },
  {
   "cell_type": "code",
   "execution_count": 27,
   "metadata": {
    "colab": {
     "base_uri": "https://localhost:8080/"
    },
    "id": "6_KSvBj8sPyY",
    "outputId": "00cc810a-a502-41c4-f214-7951a96eedd8"
   },
   "outputs": [
    {
     "name": "stdout",
     "output_type": "stream",
     "text": [
      "(97320, 256)\n",
      "[[  0   0   0 ...  63 129  20]\n",
      " [  0   0   0 ...  68 117  36]\n",
      " [  0   0   0 ...   1   1   1]\n",
      " ...\n",
      " [  0   0   0 ...   9 905   1]\n",
      " [  0   0   0 ...  93 174   1]\n",
      " [  0   0   0 ...  16 275   1]]\n"
     ]
    }
   ],
   "source": [
    "print(x_predict.shape)\n",
    "print(x_predict)"
   ]
  },
  {
   "cell_type": "markdown",
   "metadata": {
    "id": "AkJH5FzOsFLv"
   },
   "source": [
    "# Embedding matrix of of the whole dataset"
   ]
  },
  {
   "cell_type": "code",
   "execution_count": 28,
   "metadata": {
    "id": "dut4-F94sq1f"
   },
   "outputs": [],
   "source": [
    "word_index = tranformer.word_index # index of the word in the embedding space\n",
    "total_vocab = len(word_index) + 1\n",
    "embedding_size = 300"
   ]
  },
  {
   "cell_type": "code",
   "execution_count": 29,
   "metadata": {
    "colab": {
     "base_uri": "https://localhost:8080/"
    },
    "id": "MKkXbgPNrJ_V",
    "outputId": "cb56662a-9570-48f1-ba36-f0878d8f6a50"
   },
   "outputs": [
    {
     "name": "stdout",
     "output_type": "stream",
     "text": [
      "Loading /content/embeddings/wiki-news-300d-1M/wiki-news-300d-1M.vec\n",
      "Loading /content/embeddings/glove.840B.300d/glove.840B.300d.txt\n",
      "Loading /content/crawl-300d-2M.vec\n"
     ]
    },
    {
     "name": "stderr",
     "output_type": "stream",
     "text": [
      "100%|██████████| 443385/443385 [00:00<00:00, 526994.08it/s]"
     ]
    },
    {
     "name": "stdout",
     "output_type": "stream",
     "text": [
      "CPU times: user 11min 52s, sys: 20.9 s, total: 12min 13s\n",
      "Wall time: 12min 5s\n"
     ]
    },
    {
     "name": "stderr",
     "output_type": "stream",
     "text": [
      "\n"
     ]
    }
   ],
   "source": [
    "%%time\n",
    "def build_embedding_matrix(word_index, total_vocab, embedding_size):\n",
    "    embedding_index = combine_embedding(vec_files)\n",
    "    matrix = np.zeros((total_vocab, embedding_size))\n",
    "    for word, index in tqdm(word_index.items()):\n",
    "        try:\n",
    "            matrix[index] = embedding_index[word]\n",
    "        except KeyError:\n",
    "            pass\n",
    "    return matrix\n",
    "\n",
    "embedding_matrix = build_embedding_matrix(tranformer.word_index, total_vocab, embedding_size)"
   ]
  },
  {
   "cell_type": "code",
   "execution_count": 30,
   "metadata": {
    "colab": {
     "base_uri": "https://localhost:8080/"
    },
    "id": "uR5cZATishCO",
    "outputId": "96dfc739-3922-4488-ee6d-df4d47bee59c"
   },
   "outputs": [
    {
     "data": {
      "text/plain": [
       "50"
      ]
     },
     "execution_count": 30,
     "metadata": {
      "tags": []
     },
     "output_type": "execute_result"
    }
   ],
   "source": [
    "del tranformer\n",
    "del word_index\n",
    "del embedding_index\n",
    "gc.collect()"
   ]
  },
  {
   "cell_type": "markdown",
   "metadata": {
    "id": "6pAHIqsiv74l"
   },
   "source": [
    "# Preprocessing for model Input"
   ]
  },
  {
   "cell_type": "code",
   "execution_count": 31,
   "metadata": {
    "id": "-YCBRGmLv48D"
   },
   "outputs": [],
   "source": [
    "y = (train_df['target'].values > 0.5).astype(int)\n",
    "\n",
    "x_train, x_test, y_train, y_test = train_test_split(transformed_x, y, random_state=10, test_size=0.15)"
   ]
  },
  {
   "cell_type": "code",
   "execution_count": 32,
   "metadata": {
    "id": "oGudTWHO0mNq"
   },
   "outputs": [],
   "source": [
    "# %%time\n",
    "# from numpy import asarray\n",
    "# from numpy import savez_compressed\n",
    "# data = embedding_matrix\n",
    "# data2 = transformed_x\n",
    "# data3 = y\n",
    "# data4 = x_test\n",
    "# data5 = y_test\n",
    "# data6 = x_predict\n",
    "\n",
    "# savez_compressed('embedding_matrix.npz', data)\n",
    "# savez_compressed('transformed_x.npz', data2)\n",
    "# savez_compressed('y.npz', data3)\n",
    "# savez_compressed('x_test.npz', data4)\n",
    "# savez_compressed('y_test.npz', data5)\n",
    "# savez_compressed('x_predict.npz', data6)"
   ]
  },
  {
   "cell_type": "code",
   "execution_count": 33,
   "metadata": {
    "id": "bUJTlRoc2Gm0"
   },
   "outputs": [],
   "source": [
    "# !cp embedding_matrix.npz /content/drive/MyDrive/nlpFiles/PreprocessedFiles\n",
    "# !cp transformed_x.npz /content/drive/MyDrive/nlpFiles/PreprocessedFiles\n",
    "# !cp y.npz /content/drive/MyDrive/nlpFiles/PreprocessedFiles\n",
    "# !cp x_test.npz /content/drive/MyDrive/nlpFiles/PreprocessedFiles\n",
    "# !cp y_test.npz /content/drive/MyDrive/nlpFiles/PreprocessedFiles\n",
    "# !cp x_predict.npz /content/drive/MyDrive/nlpFiles/PreprocessedFiles"
   ]
  },
  {
   "cell_type": "markdown",
   "metadata": {
    "id": "fUnJjM2XwgPl"
   },
   "source": [
    "# Model"
   ]
  },
  {
   "cell_type": "code",
   "execution_count": 34,
   "metadata": {
    "colab": {
     "base_uri": "https://localhost:8080/"
    },
    "id": "EgU-_6ylwNH4",
    "outputId": "d0b43e32-5d4d-4105-bf3d-98a1b99ea020"
   },
   "outputs": [
    {
     "name": "stdout",
     "output_type": "stream",
     "text": [
      "Model: \"model\"\n",
      "__________________________________________________________________________________________________\n",
      "Layer (type)                    Output Shape         Param #     Connected to                     \n",
      "==================================================================================================\n",
      "input_1 (InputLayer)            [(None, 256)]        0                                            \n",
      "__________________________________________________________________________________________________\n",
      "embedding (Embedding)           (None, 256, 300)     133015800   input_1[0][0]                    \n",
      "__________________________________________________________________________________________________\n",
      "spatial_dropout1d (SpatialDropo (None, 256, 300)     0           embedding[0][0]                  \n",
      "__________________________________________________________________________________________________\n",
      "bidirectional (Bidirectional)   (None, 256, 128)     186880      spatial_dropout1d[0][0]          \n",
      "__________________________________________________________________________________________________\n",
      "conv1d (Conv1D)                 (None, 255, 64)      16448       bidirectional[0][0]              \n",
      "__________________________________________________________________________________________________\n",
      "global_average_pooling1d (Globa (None, 64)           0           conv1d[0][0]                     \n",
      "__________________________________________________________________________________________________\n",
      "global_max_pooling1d (GlobalMax (None, 64)           0           conv1d[0][0]                     \n",
      "__________________________________________________________________________________________________\n",
      "concatenate (Concatenate)       (None, 128)          0           global_average_pooling1d[0][0]   \n",
      "                                                                 global_max_pooling1d[0][0]       \n",
      "__________________________________________________________________________________________________\n",
      "dense (Dense)                   (None, 1)            129         concatenate[0][0]                \n",
      "==================================================================================================\n",
      "Total params: 133,219,257\n",
      "Trainable params: 203,457\n",
      "Non-trainable params: 133,015,800\n",
      "__________________________________________________________________________________________________\n"
     ]
    }
   ],
   "source": [
    "from tensorflow.nn import relu, sigmoid\n",
    "from tensorflow.keras.models import Model\n",
    "from tensorflow.keras.layers import Input, Dense, Embedding, SpatialDropout1D, Dropout, add, concatenate\n",
    "from tensorflow.keras.layers import LSTM, Bidirectional, GlobalMaxPooling1D, GlobalAveragePooling1D, Conv1D\n",
    "\n",
    "sequence_input = Input(shape=(max_seq_size,), dtype='int32')\n",
    "embedding_layer = Embedding(total_vocab,\n",
    "                            embedding_size,\n",
    "                            weights=[embedding_matrix],\n",
    "                            input_length=max_seq_size,\n",
    "                            trainable=False)\n",
    "\n",
    "x_layer = embedding_layer(sequence_input)\n",
    "x_layer = SpatialDropout1D(0.2)(x_layer)\n",
    "x_layer = Bidirectional(LSTM(64, return_sequences=True))(x_layer)   \n",
    "x_layer = Conv1D(64, kernel_size = 2, padding = \"valid\", kernel_initializer = \"he_uniform\")(x_layer)\n",
    "avg_pool1 = GlobalAveragePooling1D()(x_layer)\n",
    "max_pool1 = GlobalMaxPooling1D()(x_layer)     \n",
    "x_layer = concatenate([avg_pool1, max_pool1])\n",
    "preds = Dense(1, activation=sigmoid)(x_layer)\n",
    "model = Model(sequence_input, preds)\n",
    "model.summary()"
   ]
  },
  {
   "cell_type": "markdown",
   "metadata": {
    "id": "K9aNd8v3yOis"
   },
   "source": [
    "# Callback and Training"
   ]
  },
  {
   "cell_type": "code",
   "execution_count": 50,
   "metadata": {
    "id": "84C2BBIazoMd"
   },
   "outputs": [],
   "source": [
    "epochs=20\n",
    "batch_size=248"
   ]
  },
  {
   "cell_type": "code",
   "execution_count": 51,
   "metadata": {
    "colab": {
     "base_uri": "https://localhost:8080/"
    },
    "id": "jWP-yfq4xSNE",
    "outputId": "d4c5bf2e-3326-43f6-fd07-df5f26ff54e4"
   },
   "outputs": [
    {
     "name": "stdout",
     "output_type": "stream",
     "text": [
      "Epoch 1/20\n",
      "6187/6187 [==============================] - 317s 51ms/step - loss: 0.0711 - accuracy: 0.9724 - val_loss: 0.0900 - val_accuracy: 0.9653\n",
      "\n",
      "Epoch 00001: val_loss improved from inf to 0.08995, saving model to model.h5\n",
      "Epoch 2/20\n",
      "6187/6187 [==============================] - 312s 50ms/step - loss: 0.0702 - accuracy: 0.9727 - val_loss: 0.0907 - val_accuracy: 0.9658\n",
      "\n",
      "Epoch 00002: val_loss did not improve from 0.08995\n",
      "Epoch 3/20\n",
      "6187/6187 [==============================] - 312s 50ms/step - loss: 0.0694 - accuracy: 0.9730 - val_loss: 0.0939 - val_accuracy: 0.9633\n",
      "\n",
      "Epoch 00003: val_loss did not improve from 0.08995\n",
      "Epoch 4/20\n",
      "6187/6187 [==============================] - 312s 50ms/step - loss: 0.0685 - accuracy: 0.9734 - val_loss: 0.0913 - val_accuracy: 0.9657\n",
      "\n",
      "Epoch 00004: val_loss did not improve from 0.08995\n",
      "\n",
      "Epoch 00004: ReduceLROnPlateau reducing learning rate to 0.00010000000474974513.\n",
      "Epoch 5/20\n",
      "6187/6187 [==============================] - 311s 50ms/step - loss: 0.0640 - accuracy: 0.9753 - val_loss: 0.0935 - val_accuracy: 0.9646\n",
      "6187/6187 [==============================] - 311s 50ms/step - loss: 0.0640 - accuracy: 0.9753 - val_loss: 0.0935 - val_accuracy: 0.9646\n",
      "\n",
      "Epoch 00005: val_loss did not improve from 0.08995\n",
      "Epoch 6/20\n",
      "   1/6187 [..............................] - ETA: 4:38 - loss: 0.0820 - accuracy: 0.9677\n",
      "Epoch 00005: val_loss did not improve from 0.08995\n",
      "Epoch 6/20\n",
      "6187/6187 [==============================] - 312s 50ms/step - loss: 0.0633 - accuracy: 0.9756 - val_loss: 0.0942 - val_accuracy: 0.9642\n",
      "6187/6187 [==============================] - 312s 50ms/step - loss: 0.0633 - accuracy: 0.9756 - val_loss: 0.0942 - val_accuracy: 0.9642\n",
      "\n",
      "Epoch 00006: val_loss did not improve from 0.08995\n",
      "Epoch 7/20\n",
      "   1/6187 [..............................] - ETA: 4:49 - loss: 0.0376 - accuracy: 0.9919\n",
      "Epoch 00006: val_loss did not improve from 0.08995\n",
      "Epoch 7/20\n",
      "6187/6187 [==============================] - 311s 50ms/step - loss: 0.0627 - accuracy: 0.9757 - val_loss: 0.0945 - val_accuracy: 0.9643\n",
      "6187/6187 [==============================] - 311s 50ms/step - loss: 0.0627 - accuracy: 0.9757 - val_loss: 0.0945 - val_accuracy: 0.9643\n",
      "\n",
      "Epoch 00007: val_loss did not improve from 0.08995\n",
      "\n",
      "Epoch 00007: ReduceLROnPlateau reducing learning rate to 1.0000000474974514e-05.\n",
      "Epoch 8/20\n",
      "   1/6187 [..............................] - ETA: 4:38 - loss: 0.0489 - accuracy: 0.9798\n",
      "Epoch 00007: val_loss did not improve from 0.08995\n",
      "\n",
      "Epoch 00007: ReduceLROnPlateau reducing learning rate to 1.0000000474974514e-05.\n",
      "Epoch 8/20\n",
      "6187/6187 [==============================] - 312s 50ms/step - loss: 0.0620 - accuracy: 0.9760 - val_loss: 0.0951 - val_accuracy: 0.9641\n",
      "6187/6187 [==============================] - 312s 50ms/step - loss: 0.0620 - accuracy: 0.9760 - val_loss: 0.0951 - val_accuracy: 0.9641\n",
      "\n",
      "Epoch 00008: val_loss did not improve from 0.08995\n",
      "Epoch 9/20\n",
      "   1/6187 [..............................] - ETA: 4:21 - loss: 0.0815 - accuracy: 0.9758\n",
      "Epoch 00008: val_loss did not improve from 0.08995\n",
      "Epoch 9/20\n",
      "6187/6187 [==============================] - 311s 50ms/step - loss: 0.0620 - accuracy: 0.9760 - val_loss: 0.0951 - val_accuracy: 0.9641\n",
      "6187/6187 [==============================] - 311s 50ms/step - loss: 0.0620 - accuracy: 0.9760 - val_loss: 0.0951 - val_accuracy: 0.9641\n",
      "\n",
      "Epoch 00009: val_loss did not improve from 0.08995\n",
      "Epoch 10/20\n",
      "   1/6187 [..............................] - ETA: 4:28 - loss: 0.0901 - accuracy: 0.9718\n",
      "Epoch 00009: val_loss did not improve from 0.08995\n",
      "Epoch 10/20\n",
      "6187/6187 [==============================] - 312s 50ms/step - loss: 0.0620 - accuracy: 0.9759 - val_loss: 0.0951 - val_accuracy: 0.9642\n",
      "6187/6187 [==============================] - 312s 50ms/step - loss: 0.0620 - accuracy: 0.9759 - val_loss: 0.0951 - val_accuracy: 0.9642\n",
      "\n",
      "Epoch 00010: val_loss did not improve from 0.08995\n",
      "\n",
      "Epoch 00010: ReduceLROnPlateau reducing learning rate to 1e-05.\n",
      "Epoch 11/20\n",
      "   1/6187 [..............................] - ETA: 4:39 - loss: 0.0728 - accuracy: 0.9677\n",
      "Epoch 00010: val_loss did not improve from 0.08995\n",
      "\n",
      "Epoch 00010: ReduceLROnPlateau reducing learning rate to 1e-05.\n",
      "Epoch 11/20\n",
      "6187/6187 [==============================] - 312s 50ms/step - loss: 0.0620 - accuracy: 0.9761 - val_loss: 0.0955 - val_accuracy: 0.9638\n",
      "6187/6187 [==============================] - 312s 50ms/step - loss: 0.0620 - accuracy: 0.9761 - val_loss: 0.0955 - val_accuracy: 0.9638\n",
      "\n",
      "Epoch 00011: val_loss did not improve from 0.08995\n",
      "Epoch 00011: early stopping\n",
      "\n",
      "Epoch 00011: val_loss did not improve from 0.08995\n",
      "Epoch 00011: early stopping\n"
     ]
    }
   ],
   "source": [
    "from tensorflow.keras.callbacks import EarlyStopping, ReduceLROnPlateau, ModelCheckpoint\n",
    "\n",
    "checkpoint = ModelCheckpoint('model.h5', \n",
    "                             verbose=1, \n",
    "                             save_best_only=True, \n",
    "                             save_weights_only=True)\n",
    "earlystop =  EarlyStopping(patience=10, verbose=1)\n",
    "reduce_lr = ReduceLROnPlateau(factor=0.1, patience=3, min_lr=0.00001, verbose=1)\n",
    "\n",
    "callbacks = [checkpoint, earlystop, reduce_lr]\n",
    "\n",
    "model.compile(optimizer='adam', \n",
    "              loss='binary_crossentropy', \n",
    "              metrics=['accuracy'])\n",
    "\n",
    "history = model.fit(x_train, y_train, \n",
    "                    batch_size=batch_size, \n",
    "                    epochs=epochs, \n",
    "                    validation_data=(x_test, y_test), \n",
    "                    callbacks=callbacks)"
   ]
  },
  {
   "cell_type": "code",
   "execution_count": 60,
   "metadata": {
    "colab": {
     "base_uri": "https://localhost:8080/"
    },
    "id": "2rpXqT_Ecend",
    "outputId": "d373c231-9ea1-4324-dca3-8db00018ef58"
   },
   "outputs": [
    {
     "data": {
      "text/plain": [
       "{'accuracy': [0.9724093079566956,\n",
       "  0.9726824760437012,\n",
       "  0.973015546798706,\n",
       "  0.9733590483665466,\n",
       "  0.9752675890922546,\n",
       "  0.9755935072898865,\n",
       "  0.9757362604141235,\n",
       "  0.9760041832923889,\n",
       "  0.9760328531265259,\n",
       "  0.9759253263473511,\n",
       "  0.9760615229606628],\n",
       " 'loss': [0.07105245441198349,\n",
       "  0.0702357217669487,\n",
       "  0.06936823576688766,\n",
       "  0.06850481778383255,\n",
       "  0.06400851160287857,\n",
       "  0.06329219788312912,\n",
       "  0.06274684518575668,\n",
       "  0.06204687058925629,\n",
       "  0.06197800487279892,\n",
       "  0.06203297898173332,\n",
       "  0.061965081840753555],\n",
       " 'lr': [0.001,\n",
       "  0.001,\n",
       "  0.001,\n",
       "  0.001,\n",
       "  0.000100000005,\n",
       "  0.000100000005,\n",
       "  0.000100000005,\n",
       "  1.0000001e-05,\n",
       "  1.0000001e-05,\n",
       "  1.0000001e-05,\n",
       "  1e-05],\n",
       " 'val_accuracy': [0.9652682542800903,\n",
       "  0.9657816290855408,\n",
       "  0.9632699489593506,\n",
       "  0.9656671285629272,\n",
       "  0.9646144509315491,\n",
       "  0.9641896486282349,\n",
       "  0.964333713054657,\n",
       "  0.9640751481056213,\n",
       "  0.9640530347824097,\n",
       "  0.9642007350921631,\n",
       "  0.9638055562973022],\n",
       " 'val_loss': [0.08995047211647034,\n",
       "  0.0906590074300766,\n",
       "  0.09394361823797226,\n",
       "  0.0912582203745842,\n",
       "  0.09345241636037827,\n",
       "  0.0942140743136406,\n",
       "  0.09451968222856522,\n",
       "  0.09512218087911606,\n",
       "  0.09514697641134262,\n",
       "  0.0950682982802391,\n",
       "  0.09554164856672287]}"
      ]
     },
     "execution_count": 60,
     "metadata": {
      "tags": []
     },
     "output_type": "execute_result"
    }
   ],
   "source": [
    "history.history"
   ]
  },
  {
   "cell_type": "markdown",
   "metadata": {
    "id": "BEaU4mef22vJ"
   },
   "source": [
    "# Visualizing loss"
   ]
  },
  {
   "cell_type": "code",
   "execution_count": 61,
   "metadata": {
    "colab": {
     "base_uri": "https://localhost:8080/",
     "height": 265
    },
    "id": "1k8os4R-3go8",
    "outputId": "e2255405-7be2-438b-e42a-7629797897d4"
   },
   "outputs": [
    {
     "data": {
      "image/png": "[encoded data removed]",
      "text/plain": [
       "<Figure size 432x288 with 1 Axes>"
      ]
     },
     "metadata": {
      "needs_background": "light",
      "tags": []
     },
     "output_type": "display_data"
    }
   ],
   "source": [
    "plt.plot(history.history['loss'], color='b', label=\"Training accuracy\")\n",
    "plt.plot(history.history['val_loss'], color='r', label=\"Validation  accuracy\")\n",
    "plt.show()"
   ]
  },
  {
   "cell_type": "markdown",
   "metadata": {
    "id": "zrFrrfbs27Yb"
   },
   "source": [
    "# Visualizing Accuracy"
   ]
  },
  {
   "cell_type": "code",
   "execution_count": 62,
   "metadata": {
    "colab": {
     "base_uri": "https://localhost:8080/",
     "height": 265
    },
    "id": "psh67pq1yE9u",
    "outputId": "b7e55a67-f913-4503-e434-0f5575bbd8c5"
   },
   "outputs": [
    {
     "data": {
      "image/png": "[encoded data removed]",
      "text/plain": [
       "<Figure size 432x288 with 1 Axes>"
      ]
     },
     "metadata": {
      "needs_background": "light",
      "tags": []
     },
     "output_type": "display_data"
    }
   ],
   "source": [
    "plt.plot(history.history['accuracy'], color='b', label=\"Training accuracy\")\n",
    "plt.plot(history.history['val_accuracy'], color='r', label=\"Validation  accuracy\")\n",
    "plt.show()"
   ]
  },
  {
   "cell_type": "markdown",
   "metadata": {
    "id": "EhGV1oGE3vc3"
   },
   "source": [
    "# Evaluation"
   ]
  },
  {
   "cell_type": "code",
   "execution_count": 63,
   "metadata": {
    "colab": {
     "base_uri": "https://localhost:8080/"
    },
    "id": "WwSXEqJK3ni9",
    "outputId": "61831a33-5a2f-455d-8821-ac506187ef16"
   },
   "outputs": [
    {
     "name": "stdout",
     "output_type": "stream",
     "text": [
      "1092/1092 [==============================] - 30s 27ms/step - loss: 0.0955 - accuracy: 0.9638\n"
     ]
    }
   ],
   "source": [
    "score = model.evaluate(x_test, y_test, batch_size=batch_size)"
   ]
  },
  {
   "cell_type": "code",
   "execution_count": null,
   "metadata": {
    "id": "H519AlOI370A"
   },
   "outputs": [],
   "source": [
    "print('Validation accuracy:', score[1])\n",
    "print('Validation loss:', score[0])"
   ]
  },
  {
   "cell_type": "code",
   "execution_count": null,
   "metadata": {
    "id": "TvQyB7QT4Af9"
   },
   "outputs": [],
   "source": [
    "y_predict = model.predict(x_predict)\n",
    "sub_df[\"prediction\"] = y_predict\n",
    "sub_df"
   ]
  },
  {
   "cell_type": "code",
   "execution_count": null,
   "metadata": {
    "id": "xSHaCdX04DVo"
   },
   "outputs": [],
   "source": [
    "sub_df.to_csv(\"submission.csv\", index=False)"
   ]
  },
  {
   "cell_type": "code",
   "execution_count": 65,
   "metadata": {
    "id": "j1somJZd8ZPc"
   },
   "outputs": [],
   "source": [
    "sub_df.to_csv(\"/content/drive/MyDrive/nlpFiles/submission20epoch.csv\", index=False)"
   ]
  },
  {
   "cell_type": "markdown",
   "metadata": {
    "id": "FakG_z1HgNEF"
   },
   "source": [
    "score: 0.92284"
   ]
  },
  {
   "cell_type": "code",
   "execution_count": null,
   "metadata": {
    "id": "ELzG_Ba-8b2U"
   },
   "outputs": [],
   "source": []
  }
 ],
 "metadata": {
  "accelerator": "GPU",
  "colab": {
   "collapsed_sections": [],
   "machine_shape": "hm",
   "name": "bestmaybe.ipynb",
   "provenance": []
  },
  "kernelspec": {
   "display_name": "Python 3",
   "language": "python",
   "name": "python3"
  },
  "language_info": {
   "codemirror_mode": {
    "name": "ipython",
    "version": 3
   },
   "file_extension": ".py",
   "mimetype": "text/x-python",
   "name": "python",
   "nbconvert_exporter": "python",
   "pygments_lexer": "ipython3",
   "version": "3.7.7"
  }
 },
 "nbformat": 4,
 "nbformat_minor": 4
}
