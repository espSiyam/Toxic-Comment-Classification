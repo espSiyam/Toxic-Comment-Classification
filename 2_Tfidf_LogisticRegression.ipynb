{
  "nbformat": 4,
  "nbformat_minor": 0,
  "metadata": {
    "colab": {
      "name": "2_Tfidf_LogisticRegression.ipynb",
      "provenance": [],
      "collapsed_sections": []
    },
    "kernelspec": {
      "name": "python3",
      "display_name": "Python 3"
    },
    "language_info": {
      "name": "python"
    }
  },
  "cells": [
    {
      "cell_type": "code",
      "metadata": {
        "cellView": "form",
        "id": "IGj2intSpYw0"
      },
      "source": [
        "#@title Importig library\n",
        "import numpy as np\n",
        "import pandas as pd\n",
        "import matplotlib.pyplot as plt\n",
        "import seaborn as sns\n",
        "\n",
        "import warnings\n",
        "warnings.simplefilter(action=\"ignore\")\n",
        "\n",
        "import time \n",
        "\n",
        "#nlp\n",
        "import string\n",
        "import re    #for regex\n",
        "import nltk\n",
        "from nltk.corpus import stopwords\n",
        "from nltk.stem import PorterStemmer\n",
        "from nltk.tokenize import regexp_tokenize\n",
        "from nltk.tokenize import TreebankWordTokenizer\n",
        "import spacy\n",
        "from nltk import pos_tag\n",
        "from nltk.stem.wordnet import WordNetLemmatizer \n",
        "from nltk.tokenize import word_tokenize\n",
        "# Tweet tokenizer does not split at apostophes which is what we want\n",
        "from nltk.tokenize import TweetTokenizer   \n",
        "from sklearn.feature_extraction.text import TfidfVectorizer\n",
        "from sklearn.model_selection import cross_val_score\n",
        "from sklearn.pipeline import make_union\n",
        "from sklearn.linear_model import LogisticRegression\n",
        "\n",
        "\n",
        "#viz\n",
        "import matplotlib.pyplot as plt\n",
        "import matplotlib.gridspec as gridspec \n",
        "import seaborn as sns\n",
        "from wordcloud import WordCloud ,STOPWORDS\n",
        "from PIL import Image\n",
        "import matplotlib_venn as venn\n",
        "\n",
        "nltk.download('stopwords')\n",
        "eng_stopwords = set(stopwords.words(\"english\"))\n",
        "\n",
        "#settings\n",
        "start_time=time.time()\n",
        "color = sns.color_palette()\n",
        "sns.set_style(\"dark\")\n",
        "warnings.filterwarnings(\"ignore\")\n",
        "lem = WordNetLemmatizer()\n",
        "tokenizer=TweetTokenizer()\n",
        "from IPython.display import clear_output\n",
        "%matplotlib inline\n",
        "\n",
        "#@title Install kaggle\n",
        "!pip install kaggle\n",
        "\n",
        "#@title upload kaggle api from your profile\n",
        "from google.colab import files\n",
        "files.upload()\n",
        "\n",
        "#@title Modification to use kaggle dataset\n",
        "!mkdir /root/.kaggle\n",
        "!cp /content/kaggle.json /root/.kaggle/\n",
        "!chmod 600 /content/kaggle.json\n",
        "\n",
        "#@title Downloading the dataset\n",
        "%cd /content\n",
        "!kaggle competitions download -c jigsaw-toxic-comment-classification-challenge\n",
        "clear_output()"
      ],
      "execution_count": 2,
      "outputs": []
    },
    {
      "cell_type": "code",
      "metadata": {
        "colab": {
          "base_uri": "https://localhost:8080/"
        },
        "cellView": "form",
        "id": "G2YEVO6op2F_",
        "outputId": "6d42bf4f-8fbc-44dc-df6b-cefef33a584e"
      },
      "source": [
        "#@title Processing the dataset for taining\n",
        "\n",
        "%%time\n",
        "# Reading the dataset\n",
        "train = pd.read_csv('train.csv.zip')\n",
        "test = pd.read_csv('test.csv.zip')\n",
        "\n",
        "# Cleaning the dataset\n",
        "def clean_text(text):\n",
        "    text = text.lower()\n",
        "    text = re.sub('\\[.*?\\]', '', text)\n",
        "    text = re.sub('https?://\\S+|www\\.\\S+', '', text)\n",
        "    text = re.sub('<.*?>+', '', text)\n",
        "    text = re.sub('[%s]' % re.escape(string.punctuation), '', text)\n",
        "    text = re.sub('\\n', '', text)\n",
        "    text = re.sub('\\w*\\d\\w*', '', text)\n",
        "    return text\n",
        "\n",
        "train['comment_text'] = train['comment_text'].apply(lambda x: clean_text(x))\n",
        "test['comment_text']=test['comment_text'].apply(lambda x: clean_text(x))\n",
        "\n",
        "# Preprocessing the features\n",
        "cols = [\"toxic\", \"severe_toxic\", \"obscene\", \"threat\", \"insult\", \"identity_hate\"]\n",
        "targets = train[cols].values\n",
        "\n",
        "train_df = train['comment_text']\n",
        "test_df = test['comment_text']\n",
        "\n",
        "# Word embedding \n",
        "word_vectorizer = TfidfVectorizer(\n",
        "    sublinear_tf=True,\n",
        "    strip_accents='unicode',\n",
        "    analyzer='word',\n",
        "    token_pattern=r'\\w{1,}',\n",
        "    ngram_range=(1, 1),\n",
        "    max_features=30000)\n",
        "char_vectorizer = TfidfVectorizer(\n",
        "    sublinear_tf=True,\n",
        "    strip_accents='unicode',\n",
        "    analyzer='char',\n",
        "    ngram_range=(1, 4),\n",
        "    max_features=30000)\n",
        "vectorizer = make_union(word_vectorizer, char_vectorizer, n_jobs=-1)\n",
        "\n",
        "all_text = pd.concat([train,test])\n",
        "\n",
        "vectorizer.fit(all_text)\n",
        "\n",
        "train_features = vectorizer.transform(train_df)\n",
        "test_features = vectorizer.transform(test_df)"
      ],
      "execution_count": 3,
      "outputs": [
        {
          "output_type": "stream",
          "text": [
            "CPU times: user 28.5 s, sys: 1.03 s, total: 29.5 s\n",
            "Wall time: 3min 34s\n"
          ],
          "name": "stdout"
        }
      ]
    },
    {
      "cell_type": "code",
      "metadata": {
        "colab": {
          "base_uri": "https://localhost:8080/"
        },
        "id": "GY7-eMR5udFS",
        "outputId": "26f63aa9-6523-4d04-db6e-9902f0bd0161"
      },
      "source": [
        "%%time\n",
        "# Model training and prediction\n",
        "scores = []\n",
        "submission = pd.DataFrame.from_dict({'id': test['id']})\n",
        "\n",
        "for class_name in cols:\n",
        "    train_target = train[class_name]\n",
        "    classifier = LogisticRegression(solver='sag')\n",
        "\n",
        "    cv_score = np.mean(cross_val_score(\n",
        "        classifier, train_features, train_target, cv=3, scoring='roc_auc'))\n",
        "    scores.append(cv_score)\n",
        "    print('CV score for class {} is {}'.format(class_name, cv_score))\n",
        "\n",
        "    classifier.fit(train_features, train_target)\n",
        "    submission[class_name] = classifier.predict_proba(test_features)[:, 1]"
      ],
      "execution_count": 4,
      "outputs": [
        {
          "output_type": "stream",
          "text": [
            "CV score for class toxic is 0.8109710739009107\n",
            "CV score for class severe_toxic is 0.907149498202974\n",
            "CV score for class obscene is 0.8419683829677558\n",
            "CV score for class threat is 0.8815992288557775\n",
            "CV score for class insult is 0.8435638807392113\n",
            "CV score for class identity_hate is 0.8307344891447396\n",
            "CPU times: user 2min 16s, sys: 164 ms, total: 2min 16s\n",
            "Wall time: 2min 16s\n"
          ],
          "name": "stdout"
        }
      ]
    },
    {
      "cell_type": "code",
      "metadata": {
        "colab": {
          "base_uri": "https://localhost:8080/",
          "height": 111
        },
        "id": "iX8qN775u7mo",
        "outputId": "367e44d7-b3fd-4059-8bd2-57e38e6c8e85"
      },
      "source": [
        "submission.head(2)"
      ],
      "execution_count": 5,
      "outputs": [
        {
          "output_type": "execute_result",
          "data": {
            "text/html": [
              "<div>\n",
              "<style scoped>\n",
              "    .dataframe tbody tr th:only-of-type {\n",
              "        vertical-align: middle;\n",
              "    }\n",
              "\n",
              "    .dataframe tbody tr th {\n",
              "        vertical-align: top;\n",
              "    }\n",
              "\n",
              "    .dataframe thead th {\n",
              "        text-align: right;\n",
              "    }\n",
              "</style>\n",
              "<table border=\"1\" class=\"dataframe\">\n",
              "  <thead>\n",
              "    <tr style=\"text-align: right;\">\n",
              "      <th></th>\n",
              "      <th>id</th>\n",
              "      <th>toxic</th>\n",
              "      <th>severe_toxic</th>\n",
              "      <th>obscene</th>\n",
              "      <th>threat</th>\n",
              "      <th>insult</th>\n",
              "      <th>identity_hate</th>\n",
              "    </tr>\n",
              "  </thead>\n",
              "  <tbody>\n",
              "    <tr>\n",
              "      <th>0</th>\n",
              "      <td>00001cee341fdb12</td>\n",
              "      <td>0.183996</td>\n",
              "      <td>0.013963</td>\n",
              "      <td>0.134570</td>\n",
              "      <td>0.003096</td>\n",
              "      <td>0.095997</td>\n",
              "      <td>0.009027</td>\n",
              "    </tr>\n",
              "    <tr>\n",
              "      <th>1</th>\n",
              "      <td>0000247867823ef7</td>\n",
              "      <td>0.026833</td>\n",
              "      <td>0.001886</td>\n",
              "      <td>0.014006</td>\n",
              "      <td>0.000149</td>\n",
              "      <td>0.008276</td>\n",
              "      <td>0.004725</td>\n",
              "    </tr>\n",
              "  </tbody>\n",
              "</table>\n",
              "</div>"
            ],
            "text/plain": [
              "                 id     toxic  severe_toxic  ...    threat    insult  identity_hate\n",
              "0  00001cee341fdb12  0.183996      0.013963  ...  0.003096  0.095997       0.009027\n",
              "1  0000247867823ef7  0.026833      0.001886  ...  0.000149  0.008276       0.004725\n",
              "\n",
              "[2 rows x 7 columns]"
            ]
          },
          "metadata": {
            "tags": []
          },
          "execution_count": 5
        }
      ]
    },
    {
      "cell_type": "code",
      "metadata": {
        "id": "DXkE5P5Gu_KY"
      },
      "source": [
        "submission.to_csv('2_Tfidf_LogisticRegression.csv', index=False)"
      ],
      "execution_count": 6,
      "outputs": []
    },
    {
      "cell_type": "markdown",
      "metadata": {
        "id": "0eHU4b0HzHxp"
      },
      "source": [
        "Score: 0.84644"
      ]
    }
  ]
}